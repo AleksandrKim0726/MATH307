{
 "cells": [
  {
   "cell_type": "markdown",
   "id": "bd85ecd5-4c0e-4d35-b306-ba7dd1348fad",
   "metadata": {},
   "source": [
    "# Condition Number"
   ]
  },
  {
   "cell_type": "code",
   "execution_count": 1,
   "id": "e1dae6e3-7d7c-4a70-a9b0-33acee2e1dd7",
   "metadata": {},
   "outputs": [],
   "source": [
    "import numpy as np\n",
    "import scipy.linalg as la\n",
    "import matplotlib.pyplot as plt"
   ]
  },
  {
   "cell_type": "code",
   "execution_count": 25,
   "id": "e58bda01-4a49-417d-973a-7591b9e98896",
   "metadata": {},
   "outputs": [
    {
     "data": {
      "text/plain": [
       "array([-0.33431297, -1.42388237,  2.32128836, -0.91934058,  0.1094686 ])"
      ]
     },
     "execution_count": 25,
     "metadata": {},
     "output_type": "execute_result"
    }
   ],
   "source": [
    "N = 5\n",
    "A = np.vander(range(N),increasing=True)\n",
    "y = np.zeros(N) + (np.random.rand(N) - 0.5)\n",
    "c = la.solve(A.T @ A,A.T @ y)\n",
    "c"
   ]
  },
  {
   "cell_type": "code",
   "execution_count": null,
   "id": "4760c02e-7f5b-46c6-9a90-c0720aa5b531",
   "metadata": {},
   "outputs": [],
   "source": []
  }
 ],
 "metadata": {
  "kernelspec": {
   "display_name": "Python 3",
   "language": "python",
   "name": "python3"
  },
  "language_info": {
   "codemirror_mode": {
    "name": "ipython",
    "version": 3
   },
   "file_extension": ".py",
   "mimetype": "text/x-python",
   "name": "python",
   "nbconvert_exporter": "python",
   "pygments_lexer": "ipython3",
   "version": "3.8.8"
  }
 },
 "nbformat": 4,
 "nbformat_minor": 5
}
